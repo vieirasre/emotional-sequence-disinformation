{
 "cells": [
  {
   "cell_type": "markdown",
   "metadata": {},
   "source": [
    "## Imports"
   ]
  },
  {
   "cell_type": "code",
   "execution_count": 35,
   "metadata": {},
   "outputs": [],
   "source": [
    "import pandas as pd\n",
    "import numpy as np\n",
    "import matplotlib.pyplot as plt\n",
    "import seaborn as sns\n",
    "import re\n",
    "from textblob import TextBlob\n",
    "from vaderSentiment.vaderSentiment import SentimentIntensityAnalyzer\n",
    "import transformers\n",
    "from transformers import pipeline"
   ]
  },
  {
   "cell_type": "code",
   "execution_count": 36,
   "metadata": {},
   "outputs": [
    {
     "name": "stderr",
     "output_type": "stream",
     "text": [
      "[nltk_data] Downloading package stopwords to\n",
      "[nltk_data]     C:\\Users\\vieir\\AppData\\Roaming\\nltk_data...\n",
      "[nltk_data]   Package stopwords is already up-to-date!\n"
     ]
    }
   ],
   "source": [
    "import nltk\n",
    "from nltk.corpus import stopwords\n",
    "# Baixar as stop words do nltk\n",
    "nltk.download('stopwords')\n",
    "stop_words = set(stopwords.words('english'))"
   ]
  },
  {
   "cell_type": "code",
   "execution_count": 37,
   "metadata": {},
   "outputs": [
    {
     "name": "stderr",
     "output_type": "stream",
     "text": [
      "C:\\Users\\vieir\\AppData\\Local\\Temp\\ipykernel_9156\\2055515602.py:3: FutureWarning: The demoji.download_codes attribute is deprecated and will be removed from demoji in a future version. It is an unused attribute as emoji codes are now distributed directly with the demoji package.\n",
      "  demoji.download_codes()\n"
     ]
    }
   ],
   "source": [
    "import demoji\n",
    "import emoji\n",
    "demoji.download_codes()"
   ]
  },
  {
   "cell_type": "code",
   "execution_count": 38,
   "metadata": {},
   "outputs": [],
   "source": [
    "pd.set_option('display.max_columns', None)  # Para mostrar todas as colunas\n",
    "pd.set_option('display.max_rows', None)\n",
    "pd.set_option('display.max_colwidth', None)  # Para permitir que as colunas sejam exibidas sem corte"
   ]
  },
  {
   "cell_type": "code",
   "execution_count": 39,
   "metadata": {},
   "outputs": [],
   "source": [
    "df_fake = pd.read_csv(r'C:\\Users\\vieir\\Mestrado\\TESE\\tweets\\analises\\df_fake_news_2.csv')\n"
   ]
  },
  {
   "cell_type": "code",
   "execution_count": 40,
   "metadata": {},
   "outputs": [
    {
     "name": "stdout",
     "output_type": "stream",
     "text": [
      "<class 'pandas.core.frame.DataFrame'>\n",
      "RangeIndex: 50975 entries, 0 to 50974\n",
      "Data columns (total 22 columns):\n",
      " #   Column             Non-Null Count  Dtype  \n",
      "---  ------             --------------  -----  \n",
      " 0   tweet_id           50975 non-null  object \n",
      " 1   text               50975 non-null  object \n",
      " 2   language           50966 non-null  object \n",
      " 3   type               50975 non-null  object \n",
      " 4   bookmark_count     50966 non-null  float64\n",
      " 5   favorite_count     50966 non-null  float64\n",
      " 6   retweet_count      50966 non-null  float64\n",
      " 7   reply_count        50966 non-null  float64\n",
      " 8   view_count         45577 non-null  float64\n",
      " 9   created_at         50975 non-null  object \n",
      " 10  client             50966 non-null  object \n",
      " 11  hashtags           6081 non-null   object \n",
      " 12  urls               22380 non-null  object \n",
      " 13  media_type         21738 non-null  object \n",
      " 14  media_urls         21738 non-null  object \n",
      " 15  user_id            50975 non-null  object \n",
      " 16  name               50975 non-null  object \n",
      " 17  n tweets           50975 non-null  float64\n",
      " 18  n followers        50975 non-null  float64\n",
      " 19  category           50975 non-null  object \n",
      " 20  Factual Reporting  50975 non-null  object \n",
      " 21  user               50975 non-null  object \n",
      "dtypes: float64(7), object(15)\n",
      "memory usage: 8.6+ MB\n"
     ]
    }
   ],
   "source": [
    "df_fake.info()"
   ]
  },
  {
   "cell_type": "markdown",
   "metadata": {},
   "source": [
    "## Functions"
   ]
  },
  {
   "cell_type": "code",
   "execution_count": 41,
   "metadata": {},
   "outputs": [],
   "source": [
    "def emoji_count(tweet):\n",
    "    tweet = emoji.demojize(tweet, delimiters=('__','__'))\n",
    "    pattern = r'_+[a-z_&]+_+'\n",
    "    return len(re.findall(pattern, tweet))"
   ]
  },
  {
   "cell_type": "code",
   "execution_count": 42,
   "metadata": {},
   "outputs": [],
   "source": [
    "def clean_tweet(tweet):\n",
    "    '''\n",
    "    Utility function to clean tweet text by removing links and special characters\n",
    "    (except punctuation, apostrophes, and monetary symbols) using simple regex statements.\n",
    "    '''\n",
    "    return ' '.join(re.sub(r\"(@[A-Za-z0-9]+)|([^0-9A-Za-z \\t\\U0001F600-\\U0001F64F.,!?':;’$€£])|(\\w+:\\/\\/\\S+)\", \" \", tweet).split())\n"
   ]
  },
  {
   "cell_type": "code",
   "execution_count": 43,
   "metadata": {},
   "outputs": [],
   "source": [
    "def clean_text(text):\n",
    "    # Remover stop words\n",
    "    text = ' '.join([word for word in text.split() if word.lower() not in stop_words])\n",
    "    return text"
   ]
  },
  {
   "cell_type": "code",
   "execution_count": 44,
   "metadata": {},
   "outputs": [],
   "source": [
    "def classify_sentiment_textblob(text):\n",
    "    blob = TextBlob(text)\n",
    "    polarity = blob.sentiment.polarity\n",
    "    if polarity > 0:\n",
    "        return 'positive'\n",
    "    elif polarity < 0:\n",
    "        return 'negative'\n",
    "    else:\n",
    "        return 'neutral'"
   ]
  },
  {
   "cell_type": "code",
   "execution_count": 45,
   "metadata": {},
   "outputs": [],
   "source": [
    "def classify_sentiment_vader(polarity_scores):\n",
    "    '''\n",
    "    Classify sentiment based on the compound score from vaderSentiment polarity scores.\n",
    "    '''\n",
    "    compound = polarity_scores['compound']\n",
    "    if compound >= 0.05:\n",
    "        return 'positive'\n",
    "    elif compound <= -0.05:\n",
    "        return 'negative'\n",
    "    else:\n",
    "        return 'neutral'"
   ]
  },
  {
   "cell_type": "markdown",
   "metadata": {},
   "source": [
    "## Pipeline test"
   ]
  },
  {
   "cell_type": "markdown",
   "metadata": {},
   "source": [
    "### Text Preprocessing"
   ]
  },
  {
   "cell_type": "code",
   "execution_count": 46,
   "metadata": {},
   "outputs": [],
   "source": [
    "df_fake['emoji_count'] = df_fake['text'].apply(emoji_count)"
   ]
  },
  {
   "cell_type": "code",
   "execution_count": 47,
   "metadata": {},
   "outputs": [
    {
     "data": {
      "text/html": [
       "<div>\n",
       "<style scoped>\n",
       "    .dataframe tbody tr th:only-of-type {\n",
       "        vertical-align: middle;\n",
       "    }\n",
       "\n",
       "    .dataframe tbody tr th {\n",
       "        vertical-align: top;\n",
       "    }\n",
       "\n",
       "    .dataframe thead th {\n",
       "        text-align: right;\n",
       "    }\n",
       "</style>\n",
       "<table border=\"1\" class=\"dataframe\">\n",
       "  <thead>\n",
       "    <tr style=\"text-align: right;\">\n",
       "      <th></th>\n",
       "      <th>tweet_id</th>\n",
       "      <th>text</th>\n",
       "      <th>language</th>\n",
       "      <th>type</th>\n",
       "      <th>bookmark_count</th>\n",
       "      <th>favorite_count</th>\n",
       "      <th>retweet_count</th>\n",
       "      <th>reply_count</th>\n",
       "      <th>view_count</th>\n",
       "      <th>created_at</th>\n",
       "      <th>client</th>\n",
       "      <th>hashtags</th>\n",
       "      <th>urls</th>\n",
       "      <th>media_type</th>\n",
       "      <th>media_urls</th>\n",
       "      <th>user_id</th>\n",
       "      <th>name</th>\n",
       "      <th>n tweets</th>\n",
       "      <th>n followers</th>\n",
       "      <th>category</th>\n",
       "      <th>Factual Reporting</th>\n",
       "      <th>user</th>\n",
       "      <th>emoji_count</th>\n",
       "    </tr>\n",
       "  </thead>\n",
       "  <tbody>\n",
       "    <tr>\n",
       "      <th>168</th>\n",
       "      <td>'1852736426816794736'</td>\n",
       "      <td>🔥 Live Now on CIVL: Art of Liberty Foundation’s FREE Livestream 🔥\\nGet ready to experience a seismic shift in how we view society, governance, and personal freedom. Thanks to a powerful sponsorship, this revolutionary livestream is free!\\nTune in: https://t.co/iJCscu5zJT https://t.co/atdeGa9Oer</td>\n",
       "      <td>en</td>\n",
       "      <td>Tweet</td>\n",
       "      <td>0.0</td>\n",
       "      <td>0.0</td>\n",
       "      <td>0.0</td>\n",
       "      <td>0.0</td>\n",
       "      <td>215.0</td>\n",
       "      <td>2024-11-02 15:36:00</td>\n",
       "      <td>&lt;a href=\"https://mobile.twitter.com\" rel=\"nofollow\"&gt;Twitter Web App&lt;/a&gt;</td>\n",
       "      <td>NaN</td>\n",
       "      <td>https://watch.civl.com/programs/liberty-on-the-rocks-2024-digital-pass</td>\n",
       "      <td>photo</td>\n",
       "      <td>https://pbs.twimg.com/media/GbY90Rsa8AArRjk.jpg</td>\n",
       "      <td>ActivistPost</td>\n",
       "      <td>Activist Post</td>\n",
       "      <td>1000.0</td>\n",
       "      <td>41070.0</td>\n",
       "      <td>Pseudoscience</td>\n",
       "      <td>low</td>\n",
       "      <td>ActivistPost</td>\n",
       "      <td>2</td>\n",
       "    </tr>\n",
       "    <tr>\n",
       "      <th>177</th>\n",
       "      <td>'1852114998023057555'</td>\n",
       "      <td>👀 Ready to see what true liberty looks like? The Art of Liberty Foundation’s livestream is live today, free on CiVL! Experience game-changing ideas on society, governance, and freedom—no charge, no filters. \\n\\n🌐 Tap in: \\n\\nhttps://t.co/iJCscu5zJT https://t.co/PYN81JyTBW</td>\n",
       "      <td>en</td>\n",
       "      <td>Tweet</td>\n",
       "      <td>0.0</td>\n",
       "      <td>1.0</td>\n",
       "      <td>1.0</td>\n",
       "      <td>0.0</td>\n",
       "      <td>201.0</td>\n",
       "      <td>2024-10-31 22:26:40</td>\n",
       "      <td>&lt;a href=\"https://mobile.twitter.com\" rel=\"nofollow\"&gt;Twitter Web App&lt;/a&gt;</td>\n",
       "      <td>NaN</td>\n",
       "      <td>https://watch.civl.com/programs/liberty-on-the-rocks-2024-digital-pass</td>\n",
       "      <td>photo</td>\n",
       "      <td>https://pbs.twimg.com/media/GbQIxEvXgAAavLl.jpg</td>\n",
       "      <td>ActivistPost</td>\n",
       "      <td>Activist Post</td>\n",
       "      <td>1000.0</td>\n",
       "      <td>41070.0</td>\n",
       "      <td>Pseudoscience</td>\n",
       "      <td>low</td>\n",
       "      <td>ActivistPost</td>\n",
       "      <td>2</td>\n",
       "    </tr>\n",
       "  </tbody>\n",
       "</table>\n",
       "</div>"
      ],
      "text/plain": [
       "                  tweet_id  \\\n",
       "168  '1852736426816794736'   \n",
       "177  '1852114998023057555'   \n",
       "\n",
       "                                                                                                                                                                                                                                                                                                        text  \\\n",
       "168  🔥 Live Now on CIVL: Art of Liberty Foundation’s FREE Livestream 🔥\\nGet ready to experience a seismic shift in how we view society, governance, and personal freedom. Thanks to a powerful sponsorship, this revolutionary livestream is free!\\nTune in: https://t.co/iJCscu5zJT https://t.co/atdeGa9Oer   \n",
       "177                         👀 Ready to see what true liberty looks like? The Art of Liberty Foundation’s livestream is live today, free on CiVL! Experience game-changing ideas on society, governance, and freedom—no charge, no filters. \\n\\n🌐 Tap in: \\n\\nhttps://t.co/iJCscu5zJT https://t.co/PYN81JyTBW   \n",
       "\n",
       "    language   type  bookmark_count  favorite_count  retweet_count  \\\n",
       "168       en  Tweet             0.0             0.0            0.0   \n",
       "177       en  Tweet             0.0             1.0            1.0   \n",
       "\n",
       "     reply_count  view_count           created_at  \\\n",
       "168          0.0       215.0  2024-11-02 15:36:00   \n",
       "177          0.0       201.0  2024-10-31 22:26:40   \n",
       "\n",
       "                                                                      client  \\\n",
       "168  <a href=\"https://mobile.twitter.com\" rel=\"nofollow\">Twitter Web App</a>   \n",
       "177  <a href=\"https://mobile.twitter.com\" rel=\"nofollow\">Twitter Web App</a>   \n",
       "\n",
       "    hashtags  \\\n",
       "168      NaN   \n",
       "177      NaN   \n",
       "\n",
       "                                                                       urls  \\\n",
       "168  https://watch.civl.com/programs/liberty-on-the-rocks-2024-digital-pass   \n",
       "177  https://watch.civl.com/programs/liberty-on-the-rocks-2024-digital-pass   \n",
       "\n",
       "    media_type                                       media_urls       user_id  \\\n",
       "168      photo  https://pbs.twimg.com/media/GbY90Rsa8AArRjk.jpg  ActivistPost   \n",
       "177      photo  https://pbs.twimg.com/media/GbQIxEvXgAAavLl.jpg  ActivistPost   \n",
       "\n",
       "              name  n tweets  n followers       category Factual Reporting  \\\n",
       "168  Activist Post    1000.0      41070.0  Pseudoscience               low   \n",
       "177  Activist Post    1000.0      41070.0  Pseudoscience               low   \n",
       "\n",
       "             user  emoji_count  \n",
       "168  ActivistPost            2  \n",
       "177  ActivistPost            2  "
      ]
     },
     "execution_count": 47,
     "metadata": {},
     "output_type": "execute_result"
    }
   ],
   "source": [
    "df_fake[df_fake['emoji_count']!=0].head(2)"
   ]
  },
  {
   "cell_type": "code",
   "execution_count": 48,
   "metadata": {},
   "outputs": [
    {
     "data": {
      "text/html": [
       "<div>\n",
       "<style scoped>\n",
       "    .dataframe tbody tr th:only-of-type {\n",
       "        vertical-align: middle;\n",
       "    }\n",
       "\n",
       "    .dataframe tbody tr th {\n",
       "        vertical-align: top;\n",
       "    }\n",
       "\n",
       "    .dataframe thead th {\n",
       "        text-align: right;\n",
       "    }\n",
       "</style>\n",
       "<table border=\"1\" class=\"dataframe\">\n",
       "  <thead>\n",
       "    <tr style=\"text-align: right;\">\n",
       "      <th></th>\n",
       "      <th>Condition</th>\n",
       "      <th>Count</th>\n",
       "    </tr>\n",
       "  </thead>\n",
       "  <tbody>\n",
       "    <tr>\n",
       "      <th>0</th>\n",
       "      <td>emoji_count == 0</td>\n",
       "      <td>44247</td>\n",
       "    </tr>\n",
       "    <tr>\n",
       "      <th>1</th>\n",
       "      <td>emoji_count &gt; 0</td>\n",
       "      <td>6728</td>\n",
       "    </tr>\n",
       "  </tbody>\n",
       "</table>\n",
       "</div>"
      ],
      "text/plain": [
       "          Condition  Count\n",
       "0  emoji_count == 0  44247\n",
       "1   emoji_count > 0   6728"
      ]
     },
     "execution_count": 48,
     "metadata": {},
     "output_type": "execute_result"
    }
   ],
   "source": [
    "count_zero = (df_fake['emoji_count'] == 0).sum()\n",
    "count_greater_than_zero = (df_fake['emoji_count'] > 0).sum()\n",
    "\n",
    "summary = pd.DataFrame({\n",
    "    'Condition': ['emoji_count == 0', 'emoji_count > 0'],\n",
    "    'Count': [count_zero, count_greater_than_zero]\n",
    "})\n",
    "\n",
    "summary"
   ]
  },
  {
   "cell_type": "code",
   "execution_count": 49,
   "metadata": {},
   "outputs": [
    {
     "data": {
      "text/html": [
       "<div>\n",
       "<style scoped>\n",
       "    .dataframe tbody tr th:only-of-type {\n",
       "        vertical-align: middle;\n",
       "    }\n",
       "\n",
       "    .dataframe tbody tr th {\n",
       "        vertical-align: top;\n",
       "    }\n",
       "\n",
       "    .dataframe thead th {\n",
       "        text-align: right;\n",
       "    }\n",
       "</style>\n",
       "<table border=\"1\" class=\"dataframe\">\n",
       "  <thead>\n",
       "    <tr style=\"text-align: right;\">\n",
       "      <th></th>\n",
       "      <th>tweet_id</th>\n",
       "      <th>text</th>\n",
       "      <th>language</th>\n",
       "      <th>type</th>\n",
       "      <th>bookmark_count</th>\n",
       "      <th>favorite_count</th>\n",
       "      <th>retweet_count</th>\n",
       "      <th>reply_count</th>\n",
       "      <th>view_count</th>\n",
       "      <th>created_at</th>\n",
       "      <th>client</th>\n",
       "      <th>hashtags</th>\n",
       "      <th>urls</th>\n",
       "      <th>media_type</th>\n",
       "      <th>media_urls</th>\n",
       "      <th>user_id</th>\n",
       "      <th>name</th>\n",
       "      <th>n tweets</th>\n",
       "      <th>n followers</th>\n",
       "      <th>category</th>\n",
       "      <th>Factual Reporting</th>\n",
       "      <th>user</th>\n",
       "      <th>emoji_count</th>\n",
       "    </tr>\n",
       "  </thead>\n",
       "  <tbody>\n",
       "    <tr>\n",
       "      <th>0</th>\n",
       "      <td>'1861174452215529687'</td>\n",
       "      <td>How do you express gratitude for one’s safety when the perils posed by the American police state grow more treacherous by the day?</td>\n",
       "      <td>en</td>\n",
       "      <td>Tweet</td>\n",
       "      <td>1.0</td>\n",
       "      <td>3.0</td>\n",
       "      <td>2.0</td>\n",
       "      <td>0.0</td>\n",
       "      <td>123.0</td>\n",
       "      <td>2024-11-25 22:25:43</td>\n",
       "      <td>&lt;a href=\"https://mobile.twitter.com\" rel=\"nofollow\"&gt;Twitter Web App&lt;/a&gt;</td>\n",
       "      <td>NaN</td>\n",
       "      <td>https://activistpost.com/2024/11/divide-and-conquer-political-riptides-threaten-to-overwhelm-the-nation.html</td>\n",
       "      <td>NaN</td>\n",
       "      <td>NaN</td>\n",
       "      <td>ActivistPost</td>\n",
       "      <td>Activist Post</td>\n",
       "      <td>1000.0</td>\n",
       "      <td>41070.0</td>\n",
       "      <td>Pseudoscience</td>\n",
       "      <td>low</td>\n",
       "      <td>ActivistPost</td>\n",
       "      <td>0</td>\n",
       "    </tr>\n",
       "    <tr>\n",
       "      <th>1</th>\n",
       "      <td>'1861172568218071498'</td>\n",
       "      <td>We generally think of gold as a safe haven asset. But what about silver?</td>\n",
       "      <td>en</td>\n",
       "      <td>Tweet</td>\n",
       "      <td>1.0</td>\n",
       "      <td>0.0</td>\n",
       "      <td>0.0</td>\n",
       "      <td>0.0</td>\n",
       "      <td>125.0</td>\n",
       "      <td>2024-11-25 22:18:13</td>\n",
       "      <td>&lt;a href=\"https://mobile.twitter.com\" rel=\"nofollow\"&gt;Twitter Web App&lt;/a&gt;</td>\n",
       "      <td>NaN</td>\n",
       "      <td>https://activistpost.com/2024/11/is-silver-a-safe-haven-asset.html</td>\n",
       "      <td>NaN</td>\n",
       "      <td>NaN</td>\n",
       "      <td>ActivistPost</td>\n",
       "      <td>Activist Post</td>\n",
       "      <td>1000.0</td>\n",
       "      <td>41070.0</td>\n",
       "      <td>Pseudoscience</td>\n",
       "      <td>low</td>\n",
       "      <td>ActivistPost</td>\n",
       "      <td>0</td>\n",
       "    </tr>\n",
       "  </tbody>\n",
       "</table>\n",
       "</div>"
      ],
      "text/plain": [
       "                tweet_id  \\\n",
       "0  '1861174452215529687'   \n",
       "1  '1861172568218071498'   \n",
       "\n",
       "                                                                                                                                 text  \\\n",
       "0  How do you express gratitude for one’s safety when the perils posed by the American police state grow more treacherous by the day?   \n",
       "1                                                            We generally think of gold as a safe haven asset. But what about silver?   \n",
       "\n",
       "  language   type  bookmark_count  favorite_count  retweet_count  reply_count  \\\n",
       "0       en  Tweet             1.0             3.0            2.0          0.0   \n",
       "1       en  Tweet             1.0             0.0            0.0          0.0   \n",
       "\n",
       "   view_count           created_at  \\\n",
       "0       123.0  2024-11-25 22:25:43   \n",
       "1       125.0  2024-11-25 22:18:13   \n",
       "\n",
       "                                                                    client  \\\n",
       "0  <a href=\"https://mobile.twitter.com\" rel=\"nofollow\">Twitter Web App</a>   \n",
       "1  <a href=\"https://mobile.twitter.com\" rel=\"nofollow\">Twitter Web App</a>   \n",
       "\n",
       "  hashtags  \\\n",
       "0      NaN   \n",
       "1      NaN   \n",
       "\n",
       "                                                                                                           urls  \\\n",
       "0  https://activistpost.com/2024/11/divide-and-conquer-political-riptides-threaten-to-overwhelm-the-nation.html   \n",
       "1                                            https://activistpost.com/2024/11/is-silver-a-safe-haven-asset.html   \n",
       "\n",
       "  media_type media_urls       user_id           name  n tweets  n followers  \\\n",
       "0        NaN        NaN  ActivistPost  Activist Post    1000.0      41070.0   \n",
       "1        NaN        NaN  ActivistPost  Activist Post    1000.0      41070.0   \n",
       "\n",
       "        category Factual Reporting          user  emoji_count  \n",
       "0  Pseudoscience               low  ActivistPost            0  \n",
       "1  Pseudoscience               low  ActivistPost            0  "
      ]
     },
     "execution_count": 49,
     "metadata": {},
     "output_type": "execute_result"
    }
   ],
   "source": [
    "df_clean = df_fake.copy()\n",
    "df_clean['text'] = df_clean['text'].apply(clean_tweet)\n",
    "df_clean.head(2)"
   ]
  },
  {
   "cell_type": "code",
   "execution_count": 50,
   "metadata": {},
   "outputs": [],
   "source": [
    "df_clean['text_clean'] = df_clean['text'].apply(clean_text)"
   ]
  },
  {
   "cell_type": "code",
   "execution_count": 51,
   "metadata": {},
   "outputs": [],
   "source": [
    "df_clean['emoji_count'] = df_clean['text'].apply(emoji_count)"
   ]
  },
  {
   "cell_type": "markdown",
   "metadata": {},
   "source": [
    "### Sentiment Classification"
   ]
  },
  {
   "cell_type": "markdown",
   "metadata": {},
   "source": [
    "#### using textblob"
   ]
  },
  {
   "cell_type": "code",
   "execution_count": 52,
   "metadata": {},
   "outputs": [],
   "source": [
    "df_clean['sentiment_textblob'] = df_clean['text'].apply(lambda x: classify_sentiment_textblob(x))"
   ]
  },
  {
   "cell_type": "markdown",
   "metadata": {},
   "source": [
    "#### using vader"
   ]
  },
  {
   "cell_type": "code",
   "execution_count": 53,
   "metadata": {},
   "outputs": [],
   "source": [
    "sentiment = SentimentIntensityAnalyzer()\n"
   ]
  },
  {
   "cell_type": "code",
   "execution_count": 54,
   "metadata": {},
   "outputs": [],
   "source": [
    "df_clean['sentiment_vader'] = df_clean['text'].apply(lambda x: classify_sentiment_vader(sentiment.polarity_scores(x)))\n"
   ]
  },
  {
   "cell_type": "code",
   "execution_count": 55,
   "metadata": {},
   "outputs": [
    {
     "data": {
      "text/html": [
       "<div>\n",
       "<style scoped>\n",
       "    .dataframe tbody tr th:only-of-type {\n",
       "        vertical-align: middle;\n",
       "    }\n",
       "\n",
       "    .dataframe tbody tr th {\n",
       "        vertical-align: top;\n",
       "    }\n",
       "\n",
       "    .dataframe thead th {\n",
       "        text-align: right;\n",
       "    }\n",
       "</style>\n",
       "<table border=\"1\" class=\"dataframe\">\n",
       "  <thead>\n",
       "    <tr style=\"text-align: right;\">\n",
       "      <th></th>\n",
       "      <th>tweet_id</th>\n",
       "      <th>text</th>\n",
       "      <th>language</th>\n",
       "      <th>type</th>\n",
       "      <th>bookmark_count</th>\n",
       "      <th>favorite_count</th>\n",
       "      <th>retweet_count</th>\n",
       "      <th>reply_count</th>\n",
       "      <th>view_count</th>\n",
       "      <th>created_at</th>\n",
       "      <th>client</th>\n",
       "      <th>hashtags</th>\n",
       "      <th>urls</th>\n",
       "      <th>media_type</th>\n",
       "      <th>media_urls</th>\n",
       "      <th>user_id</th>\n",
       "      <th>name</th>\n",
       "      <th>n tweets</th>\n",
       "      <th>n followers</th>\n",
       "      <th>category</th>\n",
       "      <th>Factual Reporting</th>\n",
       "      <th>user</th>\n",
       "      <th>emoji_count</th>\n",
       "      <th>text_clean</th>\n",
       "      <th>sentiment_textblob</th>\n",
       "      <th>sentiment_vader</th>\n",
       "    </tr>\n",
       "  </thead>\n",
       "  <tbody>\n",
       "    <tr>\n",
       "      <th>0</th>\n",
       "      <td>'1861174452215529687'</td>\n",
       "      <td>How do you express gratitude for one’s safety when the perils posed by the American police state grow more treacherous by the day?</td>\n",
       "      <td>en</td>\n",
       "      <td>Tweet</td>\n",
       "      <td>1.0</td>\n",
       "      <td>3.0</td>\n",
       "      <td>2.0</td>\n",
       "      <td>0.0</td>\n",
       "      <td>123.0</td>\n",
       "      <td>2024-11-25 22:25:43</td>\n",
       "      <td>&lt;a href=\"https://mobile.twitter.com\" rel=\"nofollow\"&gt;Twitter Web App&lt;/a&gt;</td>\n",
       "      <td>NaN</td>\n",
       "      <td>https://activistpost.com/2024/11/divide-and-conquer-political-riptides-threaten-to-overwhelm-the-nation.html</td>\n",
       "      <td>NaN</td>\n",
       "      <td>NaN</td>\n",
       "      <td>ActivistPost</td>\n",
       "      <td>Activist Post</td>\n",
       "      <td>1000.0</td>\n",
       "      <td>41070.0</td>\n",
       "      <td>Pseudoscience</td>\n",
       "      <td>low</td>\n",
       "      <td>ActivistPost</td>\n",
       "      <td>0</td>\n",
       "      <td>express gratitude one’s safety perils posed American police state grow treacherous day?</td>\n",
       "      <td>positive</td>\n",
       "      <td>positive</td>\n",
       "    </tr>\n",
       "    <tr>\n",
       "      <th>1</th>\n",
       "      <td>'1861172568218071498'</td>\n",
       "      <td>We generally think of gold as a safe haven asset. But what about silver?</td>\n",
       "      <td>en</td>\n",
       "      <td>Tweet</td>\n",
       "      <td>1.0</td>\n",
       "      <td>0.0</td>\n",
       "      <td>0.0</td>\n",
       "      <td>0.0</td>\n",
       "      <td>125.0</td>\n",
       "      <td>2024-11-25 22:18:13</td>\n",
       "      <td>&lt;a href=\"https://mobile.twitter.com\" rel=\"nofollow\"&gt;Twitter Web App&lt;/a&gt;</td>\n",
       "      <td>NaN</td>\n",
       "      <td>https://activistpost.com/2024/11/is-silver-a-safe-haven-asset.html</td>\n",
       "      <td>NaN</td>\n",
       "      <td>NaN</td>\n",
       "      <td>ActivistPost</td>\n",
       "      <td>Activist Post</td>\n",
       "      <td>1000.0</td>\n",
       "      <td>41070.0</td>\n",
       "      <td>Pseudoscience</td>\n",
       "      <td>low</td>\n",
       "      <td>ActivistPost</td>\n",
       "      <td>0</td>\n",
       "      <td>generally think gold safe asset. silver?</td>\n",
       "      <td>positive</td>\n",
       "      <td>positive</td>\n",
       "    </tr>\n",
       "  </tbody>\n",
       "</table>\n",
       "</div>"
      ],
      "text/plain": [
       "                tweet_id  \\\n",
       "0  '1861174452215529687'   \n",
       "1  '1861172568218071498'   \n",
       "\n",
       "                                                                                                                                 text  \\\n",
       "0  How do you express gratitude for one’s safety when the perils posed by the American police state grow more treacherous by the day?   \n",
       "1                                                            We generally think of gold as a safe haven asset. But what about silver?   \n",
       "\n",
       "  language   type  bookmark_count  favorite_count  retweet_count  reply_count  \\\n",
       "0       en  Tweet             1.0             3.0            2.0          0.0   \n",
       "1       en  Tweet             1.0             0.0            0.0          0.0   \n",
       "\n",
       "   view_count           created_at  \\\n",
       "0       123.0  2024-11-25 22:25:43   \n",
       "1       125.0  2024-11-25 22:18:13   \n",
       "\n",
       "                                                                    client  \\\n",
       "0  <a href=\"https://mobile.twitter.com\" rel=\"nofollow\">Twitter Web App</a>   \n",
       "1  <a href=\"https://mobile.twitter.com\" rel=\"nofollow\">Twitter Web App</a>   \n",
       "\n",
       "  hashtags  \\\n",
       "0      NaN   \n",
       "1      NaN   \n",
       "\n",
       "                                                                                                           urls  \\\n",
       "0  https://activistpost.com/2024/11/divide-and-conquer-political-riptides-threaten-to-overwhelm-the-nation.html   \n",
       "1                                            https://activistpost.com/2024/11/is-silver-a-safe-haven-asset.html   \n",
       "\n",
       "  media_type media_urls       user_id           name  n tweets  n followers  \\\n",
       "0        NaN        NaN  ActivistPost  Activist Post    1000.0      41070.0   \n",
       "1        NaN        NaN  ActivistPost  Activist Post    1000.0      41070.0   \n",
       "\n",
       "        category Factual Reporting          user  emoji_count  \\\n",
       "0  Pseudoscience               low  ActivistPost            0   \n",
       "1  Pseudoscience               low  ActivistPost            0   \n",
       "\n",
       "                                                                                text_clean  \\\n",
       "0  express gratitude one’s safety perils posed American police state grow treacherous day?   \n",
       "1                                                 generally think gold safe asset. silver?   \n",
       "\n",
       "  sentiment_textblob sentiment_vader  \n",
       "0           positive        positive  \n",
       "1           positive        positive  "
      ]
     },
     "execution_count": 55,
     "metadata": {},
     "output_type": "execute_result"
    }
   ],
   "source": [
    "df_clean.head(2)"
   ]
  },
  {
   "cell_type": "code",
   "execution_count": 24,
   "metadata": {},
   "outputs": [],
   "source": [
    "df_clean.to_csv(r'C:\\Users\\vieir\\Mestrado\\TESE\\tweets\\analises\\df_fake_news_sentiment.csv', index=False)"
   ]
  },
  {
   "cell_type": "markdown",
   "metadata": {},
   "source": [
    "#### using Transformer based models\n",
    "\n",
    " go to the other notebook :)"
   ]
  }
 ],
 "metadata": {
  "kernelspec": {
   "display_name": "tese",
   "language": "python",
   "name": "python3"
  },
  "language_info": {
   "codemirror_mode": {
    "name": "ipython",
    "version": 3
   },
   "file_extension": ".py",
   "mimetype": "text/x-python",
   "name": "python",
   "nbconvert_exporter": "python",
   "pygments_lexer": "ipython3",
   "version": "3.11.9"
  }
 },
 "nbformat": 4,
 "nbformat_minor": 2
}
